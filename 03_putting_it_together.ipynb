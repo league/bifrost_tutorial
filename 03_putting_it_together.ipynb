{
 "cells": [
  {
   "cell_type": "markdown",
   "id": "fcdf1912",
   "metadata": {},
   "source": [
    "# Putting it Together\n",
    "\n",
    "In the previous section we introduced blocks, the fundamental building blocks of a pipeline in Bifrost.  Now we will talk about how blocks are connected together and some of the considerations.\n",
    "\n",
    "In Bifrost blocks are connected together by circular memory buffers called \"rings\".  Like a `bifrost.ndarray`, a ring exists in a memoy space:  system, cuda_host, or cuda.  A ring also has a size that based on a integer number of segments of the gulp size for the ring. \n",
    "\n",
    "To create a ring in Bifrost:"
   ]
  },
  {
   "cell_type": "code",
   "execution_count": 1,
   "id": "e8f5bda6",
   "metadata": {},
   "outputs": [
    {
     "name": "stdout",
     "output_type": "stream",
     "text": [
      "name: b'a_ring' , space: system\n"
     ]
    }
   ],
   "source": [
    "import bifrost\n",
    "\n",
    "ring = bifrost.ring.Ring(name=\"a_ring\", space=\"system\")\n",
    "print('name:', ring.name, ', space:', ring.space)"
   ]
  },
  {
   "cell_type": "markdown",
   "id": "bac3cc61",
   "metadata": {},
   "source": [
    "This creates a new ring, called \"a_ring\", in the system memory space.  Although the ring has been created it does not yet have any memory allocated to it.  To allocate memory you `resize` it:"
   ]
  },
  {
   "cell_type": "code",
   "execution_count": 2,
   "id": "705c4df0",
   "metadata": {},
   "outputs": [],
   "source": [
    "ring.resize(4096)"
   ]
  },
  {
   "cell_type": "markdown",
   "id": "de11b932",
   "metadata": {},
   "source": [
    "This sets the gulp size for the ring to 4096 bytes and this call sets the total ring size to four, 4096 byte buffer.  You can change the buffer fraction by adding in a second argument which is the total ring size.  For example, to increase the buffer size to five segments:"
   ]
  },
  {
   "cell_type": "code",
   "execution_count": 3,
   "id": "26c0d06f",
   "metadata": {},
   "outputs": [],
   "source": [
    "ring.resize(4096, 5*4096)"
   ]
  },
  {
   "cell_type": "markdown",
   "id": "9c8c0212",
   "metadata": {},
   "source": [
    "Resizing a ring is a data-safe process and the contents of the ring are preserved.\n",
    "\n",
    "Rings in Bifrost are more than just a section of memory, though.  It has a few other attributes that make it useful for representing a stream of data:\n",
    "\n",
    " * a timetag that denotes when the stream of data starts\n",
    " * a header that stores metadata about the sequence\n",
    " * they support single writer/multi-reader access for branching pipelines\n",
    "\n",
    "Let's use an example to look at these first two.  In this we will write some data to the ring:"
   ]
  },
  {
   "cell_type": "code",
   "execution_count": 4,
   "id": "f74b9145",
   "metadata": {},
   "outputs": [
    {
     "name": "stdout",
     "output_type": "stream",
     "text": [
      "0 @ [[ 38 117  68 ...  75  66  96]]\n",
      "1 @ [[ 78  28  37 ...  70 121  75]]\n",
      "2 @ [[ 88  41 106 ...  90  69 103]]\n",
      "3 @ [[ 98  18  64 ...  34  65 101]]\n",
      "4 @ [[ 90 115  10 ...  41  94 118]]\n",
      "5 @ [[ 16   3 119 ...  28  88  31]]\n",
      "6 @ [[ 32  78  32 ... 126  17  64]]\n",
      "7 @ [[ 13   7   6 ... 109 103 116]]\n",
      "8 @ [[ 50  12  67 ... 126 123   8]]\n",
      "9 @ [[ 79   8 118 ... 114  97  95]]\n",
      "10 @ [[87 28 74 ...  2 74 63]]\n",
      "11 @ [[  1  94 123 ...  41  14 112]]\n",
      "12 @ [[  0  45  96 ...  51 102  49]]\n",
      "13 @ [[54 88 56 ... 74 20 30]]\n",
      "14 @ [[ 23  98 101 ... 126  51  21]]\n",
      "15 @ [[ 49   1 101 ... 100  40  36]]\n",
      "16 @ [[97 25 50 ... 90 83 38]]\n",
      "17 @ [[ 90 105  85 ...  66  81  19]]\n",
      "18 @ [[  5  80  81 ...  11  16 111]]\n",
      "19 @ [[ 65 125   4 ...  25  97  11]]\n"
     ]
    }
   ],
   "source": [
    "import json, numpy, time\n",
    "\n",
    "ring = bifrost.ring.Ring(name=\"another_ring\", space=\"system\")\n",
    "\n",
    "with ring.begin_writing() as output_ring:\n",
    "    time_tag = int(time.time()*1e9)\n",
    "    hdr = {'time_tag':      time_tag,\n",
    "           'metadata':      'here',\n",
    "           'more_metadata': 'there'}\n",
    "    hdr_str = json.dumps(hdr)\n",
    "    \n",
    "    gulp_size = 4096\n",
    "    ring.resize(gulp_size, 5*gulp_size)\n",
    "    \n",
    "    with output_ring.begin_sequence(time_tag=hdr['time_tag'],\n",
    "                                    header=hdr_str) as output_seq:\n",
    "        for i in range(20):\n",
    "            with output_seq.reserve(gulp_size) as output_span:\n",
    "                data = output_span.data_view(numpy.int8)\n",
    "                data[...] = (numpy.random.rand(gulp_size)\\\n",
    "                             *127).astype(numpy.int8)\n",
    "                print(i, '@', data[:5])"
   ]
  },
  {
   "cell_type": "markdown",
   "id": "21f9db4d",
   "metadata": {},
   "source": [
    "Here we:\n",
    "\n",
    " 1. Ready the ring for writing with `ring.begin_writing()`.\n",
    " 2. Once the ring is ready for writing, we define the time tag for the first sample and a dictionary of metadata.  The time tag is expected to be an integer and the dictionary is dumped to a JSON object.\n",
    " 3. Start a \"sequence\" on the ring using that time tag and JSON object. \n",
    "  * In Bifrost a sequence is a stream of data with a single observational setup.\n",
    " 4. Loop over spans, also called gulps, in the output sequence and writes data to the ring.\n",
    "  * Writing uses a \"data_view\" of the span/gulp that exposes it as a `bifrost.ndarray`.\n",
    "\n",
    "Reading from a ring follows a similar sequence:"
   ]
  },
  {
   "cell_type": "code",
   "execution_count": 5,
   "id": "223c1f23",
   "metadata": {},
   "outputs": [
    {
     "name": "stdout",
     "output_type": "stream",
     "text": [
      "1619206567011656448\n",
      "{'time_tag': 1619206567011656448, 'metadata': 'here', 'more_metadata': 'there'}\n",
      "12 @ [[  0  45  96 ...  51 102  49]]\n",
      "13 @ [[54 88 56 ... 74 20 30]]\n",
      "14 @ [[ 23  98 101 ... 126  51  21]]\n",
      "15 @ [[ 49   1 101 ... 100  40  36]]\n",
      "16 @ [[97 25 50 ... 90 83 38]]\n",
      "17 @ [[ 90 105  85 ...  66  81  19]]\n",
      "18 @ [[  5  80  81 ...  11  16 111]]\n",
      "19 @ [[ 65 125   4 ...  25  97  11]]\n"
     ]
    },
    {
     "name": "stderr",
     "output_type": "stream",
     "text": [
      "/home/jdowell/.local/lib/python3.6/site-packages/ipykernel_launcher.py:9: DeprecationWarning: generator 'ReadSequence.read' raised StopIteration\n",
      "  if __name__ == '__main__':\n",
      "/home/jdowell/.local/lib/python3.6/site-packages/ipykernel_launcher.py:1: DeprecationWarning: generator 'Ring.read' raised StopIteration\n",
      "  \"\"\"Entry point for launching an IPython kernel.\n"
     ]
    }
   ],
   "source": [
    "for input_seq in ring.read(guarantee=True):\n",
    "    hdr = json.loads(input_seq.header.tobytes())\n",
    "    print(input_seq.time_tag)\n",
    "    print(hdr)\n",
    "    \n",
    "    gulp_size = 4096\n",
    "    \n",
    "    i = -1\n",
    "    for input_span in input_seq.read(gulp_size):\n",
    "        i += 1\n",
    "        if input_span.size < gulp_size:\n",
    "            continue\n",
    "        data = input_span.data_view(numpy.int8)\n",
    "        print(i, '@', data[:10])"
   ]
  },
  {
   "cell_type": "markdown",
   "id": "e11cf55d",
   "metadata": {},
   "source": [
    "Here we:\n",
    "\n",
    " 1. Open the ring for reading with `ring.read()` and get an iterator over sequences in that ring.\n",
    "  * This ring was opened with `gaurantee=True` which tells Bifrost that spans that are being read from cannot be overwriten with new data until the reader releases the span.\n",
    " 2. For the sequence we can access its time_tag and metadata header.\n",
    " 3. Loop over spans/gulps within that sequence until the iterator is exhausted.\n",
    "  * It is possible that a span returned by `input_seq.read()` is smaller than the gulp size, particuarlly at the end of a sequence.  It is a good idea to check the size of the span before trying to use it.\n",
    " 4. For each span, do the processing that is required.\n",
    "\n",
    "In the next section we will talk about how to build a complete pipeline from these pieces. "
   ]
  }
 ],
 "metadata": {
  "kernelspec": {
   "display_name": "Python 3",
   "language": "python",
   "name": "python3"
  },
  "language_info": {
   "codemirror_mode": {
    "name": "ipython",
    "version": 3
   },
   "file_extension": ".py",
   "mimetype": "text/x-python",
   "name": "python",
   "nbconvert_exporter": "python",
   "pygments_lexer": "ipython3",
   "version": "3.6.9"
  }
 },
 "nbformat": 4,
 "nbformat_minor": 5
}
